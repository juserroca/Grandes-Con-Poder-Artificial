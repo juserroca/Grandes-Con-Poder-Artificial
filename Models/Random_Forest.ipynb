{
 "cells": [
  {
   "cell_type": "code",
   "execution_count": 5,
   "id": "d4815362",
   "metadata": {},
   "outputs": [],
   "source": [
    "import numpy as np\n",
    "import pandas as pd\n",
    "import matplotlib.pyplot as plt\n",
    "import seaborn as sns\n",
    "import time\n",
    "from numpy import mean, std\n",
    "from mlxtend.plotting import plot_confusion_matrix\n",
    "from mlxtend.classifier import StackingClassifier\n",
    "from sklearn.ensemble import RandomForestClassifier\n",
    "from sklearn.neural_network import MLPClassifier\n",
    "from sklearn.model_selection import train_test_split\n",
    "from sklearn.metrics import accuracy_score, classification_report\n",
    "from sklearn.preprocessing import StandardScaler\n",
    "from sklearn.datasets import make_classification\n",
    "from sklearn.model_selection import RepeatedStratifiedKFold\n",
    "from sklearn.model_selection import cross_val_score\n",
    "from sklearn.metrics import recall_score\n",
    "from sklearn.metrics import make_scorer\n",
    "from sklearn.metrics import confusion_matrix\n",
    "import pre as pr"
   ]
  },
  {
   "cell_type": "code",
   "execution_count": 6,
   "id": "32bb8885",
   "metadata": {},
   "outputs": [],
   "source": [
    "from pre import X_train, X_test, df, y_train, y_test"
   ]
  },
  {
   "cell_type": "code",
   "execution_count": 13,
   "id": "d9da52e7",
   "metadata": {},
   "outputs": [],
   "source": [
    "def RandomForest_trainer():\n",
    "    n= 100\n",
    "    md= 20\n",
    "    split= 5\n",
    "    leaf= 2\n",
    "    state= 42\n",
    "    njobs= -1\n",
    "    rf_model = RandomForestClassifier(\n",
    "    n_estimators=n,\n",
    "    max_depth=md,\n",
    "    min_samples_split= split,\n",
    "    min_samples_leaf= leaf,\n",
    "    random_state= state,\n",
    "    n_jobs=njobs\n",
    ")\n",
    "    rf_model.fit(X_train,y_train)\n",
    "    y_pred = rf_model.predict(X_test)\n",
    "    y_pred_proba = rf_model.predict_proba(X_test)[:,1]\n",
    "    print(\"\\n\" + \"=\"*60)\n",
    "    print(\"RESULTADOS DEL MODELO\")\n",
    "    print(\"=\"*60)\n",
    "    print(f\"\\n Accuracy: {accuracy_score(y_test, y_pred):.4f}\")\n",
    "    print(\"\\n Classification Report:\")\n",
    "    print(classification_report(y_test, y_pred))\n",
    "    print(\"\\nConfusion Matrix:\")\n",
    "    return confusion_matrix(y_test, y_pred)\n"
   ]
  },
  {
   "cell_type": "code",
   "execution_count": 14,
   "id": "0882092c",
   "metadata": {},
   "outputs": [
    {
     "name": "stdout",
     "output_type": "stream",
     "text": [
      "\n",
      "============================================================\n",
      "RESULTADOS DEL MODELO\n",
      "============================================================\n",
      "\n",
      " Accuracy: 0.8167\n",
      "\n",
      " Classification Report:\n",
      "              precision    recall  f1-score   support\n",
      "\n",
      "           0       0.87      0.75      0.80      1364\n",
      "           1       0.78      0.89      0.83      1364\n",
      "\n",
      "    accuracy                           0.82      2728\n",
      "   macro avg       0.82      0.82      0.82      2728\n",
      "weighted avg       0.82      0.82      0.82      2728\n",
      "\n",
      "\n",
      "Confusion Matrix:\n"
     ]
    },
    {
     "data": {
      "text/plain": [
       "array([[1017,  347],\n",
       "       [ 153, 1211]])"
      ]
     },
     "execution_count": 14,
     "metadata": {},
     "output_type": "execute_result"
    }
   ],
   "source": [
    "RandomForest_trainer()"
   ]
  },
  {
   "cell_type": "code",
   "execution_count": null,
   "id": "95511867",
   "metadata": {},
   "outputs": [],
   "source": [
    "def classification_report(y_test, y_pred, positive_label=1):\n",
    "    tp = 0\n",
    "    fn= 0\n",
    "    fp = 0\n",
    "    tn = 0\n",
    "    for i, j in zip(y_test, y_pred):\n",
    "        if i == positive_label:\n",
    "            if j == positive_label:\n",
    "                tp += 1\n",
    "            else:\n",
    "                fn += 1\n",
    "        else:\n",
    "            if j == positive_label:\n",
    "                fp += 1\n",
    "            else:\n",
    "                tn += 1\n",
    "    return tp, fn, fp, tn\n",
    "\n",
    "def accuracy(tp, fn, fp, tn):\n",
    "    return (tp + tn) / (tp + fn + fp + tn)\n",
    "\n",
    "def precision(tp, fn, fp, tn):\n",
    "    return tp / (tp + fp)\n",
    "\n",
    "def recall(tp, fn, fp, tn):\n",
    "    return tp / (tp + fn)\n",
    "\n",
    "def f1_score(tp, fn, fp, tn):\n",
    "    Precision = precision(tp, fn, fp, tn)\n",
    "    Recall = recall(tp, fn, fp, tn)\n",
    "    F1_score = 2 * (Precision * Recall) / (Precision + Recall)\n",
    "    return F1_score\n",
    "\n",
    "def sensitivity(tp, fn, fp, tn):\n",
    "    Sensitivity = tp / (tp + fn)\n",
    "    return Sensitivity\n",
    "\n",
    "def specificity(tp, fn, fp, tn):\n",
    "    Specificity = tn / (tn + fp)\n",
    "    return Specificity\n"
   ]
  },
  {
   "cell_type": "code",
   "execution_count": null,
   "id": "51bae6d0",
   "metadata": {},
   "outputs": [],
   "source": [
    "start_time = time.time()"
   ]
  },
  {
   "cell_type": "code",
   "execution_count": null,
   "id": "4af1e949",
   "metadata": {},
   "outputs": [
    {
     "name": "stdout",
     "output_type": "stream",
     "text": [
      "[0.89217759 0.86046512 0.86469345 0.86257928 0.85623679 0.87076271\n",
      " 0.87076271 0.88135593 0.88983051 0.89830508 0.86680761 0.88794926\n",
      " 0.86046512 0.87315011 0.85412262 0.87288136 0.90042373 0.87711864\n",
      " 0.88135593 0.86440678 0.86469345 0.86680761 0.86892178 0.84566596\n",
      " 0.88794926 0.86864407 0.89618644 0.87923729 0.87711864 0.86864407\n",
      " 0.84566596 0.87315011 0.87526427 0.90063425 0.87737844 0.875\n",
      " 0.8940678  0.875      0.88771186 0.86440678 0.8794926  0.90274841\n",
      " 0.87737844 0.89006342 0.88372093 0.84957627 0.88347458 0.88347458\n",
      " 0.86228814 0.84322034]\n",
      "Accuracy: 0.8747 (0.0146)\n"
     ]
    }
   ],
   "source": [
    "# evaluate the model\n",
    "cv = RepeatedStratifiedKFold(n_splits=10, n_repeats=5, random_state=1)\n",
    "n_scores = cross_val_score(classifier, X, y, scoring='accuracy', cv=cv, n_jobs=-1, error_score='raise')\n",
    "print(n_scores)\n",
    "# report performance\n",
    "print('Accuracy: %.4f (%.4f)' % (mean(n_scores), std(n_scores)))"
   ]
  },
  {
   "cell_type": "code",
   "execution_count": null,
   "id": "59666b71",
   "metadata": {},
   "outputs": [
    {
     "name": "stdout",
     "output_type": "stream",
     "text": [
      "[0.84343434 0.83333333 0.83333333 0.85858586 0.80808081 0.83756345\n",
      " 0.83838384 0.83838384 0.82828283 0.88383838 0.82323232 0.83333333\n",
      " 0.80808081 0.83838384 0.81313131 0.8071066  0.87373737 0.88888889\n",
      " 0.85353535 0.80808081 0.82828283 0.81818182 0.85858586 0.84848485\n",
      " 0.83333333 0.83248731 0.87878788 0.84343434 0.81313131 0.83333333\n",
      " 0.84343434 0.84848485 0.82828283 0.87878788 0.82323232 0.83248731\n",
      " 0.86363636 0.81818182 0.82828283 0.81818182 0.82323232 0.89393939\n",
      " 0.84848485 0.83333333 0.83333333 0.83756345 0.83838384 0.86868687\n",
      " 0.87373737 0.76262626]\n",
      "sensitivity: 0.8387 (0.0244)\n"
     ]
    }
   ],
   "source": [
    "\n",
    "\n",
    "# evaluate the model\n",
    "cv = RepeatedStratifiedKFold(n_splits=10, n_repeats=5, random_state=1)\n",
    "n_scores = cross_val_score(classifier, X, y, scoring='recall', cv=cv, n_jobs=-1, error_score='raise')\n",
    "print(n_scores)\n",
    "# report performance\n",
    "print('sensitivity: %.4f (%.4f)' % (mean(n_scores), std(n_scores)))\n",
    "\n"
   ]
  },
  {
   "cell_type": "code",
   "execution_count": null,
   "id": "3829abfe",
   "metadata": {},
   "outputs": [],
   "source": [
    "specificity = make_scorer(recall_score, pos_label=0)"
   ]
  },
  {
   "cell_type": "code",
   "execution_count": null,
   "id": "cfd97e46",
   "metadata": {},
   "outputs": [
    {
     "name": "stdout",
     "output_type": "stream",
     "text": [
      "[0.94181818 0.88727273 0.88       0.90545455 0.90545455 0.89454545\n",
      " 0.88686131 0.93430657 0.91970803 0.88321168 0.88727273 0.91636364\n",
      " 0.88363636 0.88727273 0.87636364 0.93090909 0.91605839 0.88321168\n",
      " 0.88686131 0.92335766 0.90909091 0.89090909 0.88       0.85454545\n",
      " 0.93454545 0.89090909 0.91240876 0.91240876 0.9379562  0.90510949\n",
      " 0.85090909 0.86545455 0.90545455 0.92       0.92       0.91272727\n",
      " 0.90510949 0.90875912 0.93065693 0.90875912 0.90909091 0.90909091\n",
      " 0.91636364 0.90909091 0.90181818 0.88       0.91970803 0.87956204\n",
      " 0.87956204 0.90145985]\n",
      "specificity: 0.9018 (0.0207)\n"
     ]
    }
   ],
   "source": [
    "# evaluate the model\n",
    "cv = RepeatedStratifiedKFold(n_splits=10, n_repeats=5, random_state=1)\n",
    "n_scores = cross_val_score(classifier, X, y, cv=cv, scoring = specificity, n_jobs=-1, error_score='raise')\n",
    "print(n_scores)\n",
    "# report performance\n",
    "print('specificity: %.4f (%.4f)' % (mean(n_scores), std(n_scores)))"
   ]
  },
  {
   "cell_type": "code",
   "execution_count": null,
   "id": "0370c377",
   "metadata": {},
   "outputs": [
    {
     "name": "stdout",
     "output_type": "stream",
     "text": [
      "[0.89304813 0.84375    0.83417085 0.85858586 0.88268156 0.84693878\n",
      " 0.85204082 0.89784946 0.89673913 0.865      0.85789474 0.88709677\n",
      " 0.84042553 0.835      0.84536082 0.88333333 0.88944724 0.84057971\n",
      " 0.85572139 0.87431694 0.85263158 0.84974093 0.83663366 0.78504673\n",
      " 0.88586957 0.85279188 0.89393939 0.86458333 0.90340909 0.86772487\n",
      " 0.80193237 0.81642512 0.87434555 0.91005291 0.87567568 0.85051546\n",
      " 0.88265306 0.87096774 0.89617486 0.86666667 0.88770053 0.86057692\n",
      " 0.87765957 0.87301587 0.87434555 0.83163265 0.875      0.85643564\n",
      " 0.83009709 0.86516854]\n",
      "precision: 0.8630 (0.0257)\n"
     ]
    }
   ],
   "source": [
    "# evaluate the model\n",
    "cv = RepeatedStratifiedKFold(n_splits=10, n_repeats=5, random_state=1)\n",
    "n_scores = cross_val_score(classifier, X, y, scoring='precision', cv=cv, n_jobs=-1, error_score='raise')\n",
    "print(n_scores)\n",
    "# report performance\n",
    "print('precision: %.4f (%.4f)' % (mean(n_scores), std(n_scores)))"
   ]
  },
  {
   "cell_type": "code",
   "execution_count": null,
   "id": "591cc1d4",
   "metadata": {},
   "outputs": [
    {
     "name": "stdout",
     "output_type": "stream",
     "text": [
      "[0.87434555 0.81958763 0.83291771 0.84050633 0.83989501 0.84536082\n",
      " 0.84848485 0.86387435 0.87113402 0.87064677 0.83589744 0.85639687\n",
      " 0.83290488 0.83756345 0.81841432 0.84126984 0.88832487 0.85784314\n",
      " 0.85642317 0.83684211 0.84536082 0.83589744 0.84924623 0.8195122\n",
      " 0.86387435 0.8346056  0.8989899  0.86082474 0.85941645 0.84675325\n",
      " 0.81372549 0.84367246 0.84536082 0.87468031 0.85941645 0.84398977\n",
      " 0.87179487 0.85128205 0.86910995 0.83246073 0.83419689 0.88833747\n",
      " 0.83854167 0.86082474 0.85128205 0.83919598 0.8556701  0.86352357\n",
      " 0.84444444 0.80533333]\n",
      "f1 score: 0.8494 (0.0192)\n"
     ]
    }
   ],
   "source": [
    "# evaluate the model\n",
    "cv = RepeatedStratifiedKFold(n_splits=10, n_repeats=5, random_state=1)\n",
    "n_scores = cross_val_score(classifier, X, y, scoring='f1', cv=cv, n_jobs=-1, error_score='raise')\n",
    "print(n_scores)\n",
    "# report performance\n",
    "print('f1 score: %.4f (%.4f)' % (mean(n_scores), std(n_scores)))"
   ]
  },
  {
   "cell_type": "code",
   "execution_count": null,
   "id": "924ce41b",
   "metadata": {},
   "outputs": [
    {
     "name": "stdout",
     "output_type": "stream",
     "text": [
      "--- 165.68277168273926 seconds ---\n"
     ]
    }
   ],
   "source": [
    "#Print Time\n",
    "print(\"--- %s seconds ---\" % (time.time() - start_time))"
   ]
  },
  {
   "cell_type": "code",
   "execution_count": null,
   "id": "1e1b33f8",
   "metadata": {},
   "outputs": [
    {
     "name": "stdout",
     "output_type": "stream",
     "text": [
      " Accuracy: 87.588%\n"
     ]
    }
   ],
   "source": [
    "y_pred = classifier.predict(X_test)\n",
    "print(\" Accuracy: {:.3f}%\".format(accuracy(*classification_report(y_test, y_pred)) * 100))"
   ]
  },
  {
   "cell_type": "code",
   "execution_count": null,
   "id": "9cd67ca8",
   "metadata": {},
   "outputs": [
    {
     "name": "stdout",
     "output_type": "stream",
     "text": [
      " Sensitivity: 84.757%\n"
     ]
    }
   ],
   "source": [
    "y_pred = classifier.predict(X_test)\n",
    "print(\" Sensitivity: {:.3f}%\".format(sensitivity(*classification_report(y_test, y_pred)) * 100))"
   ]
  },
  {
   "cell_type": "code",
   "execution_count": null,
   "id": "45e2471d",
   "metadata": {},
   "outputs": [
    {
     "name": "stdout",
     "output_type": "stream",
     "text": [
      " Precision: 85.618%\n"
     ]
    }
   ],
   "source": [
    "y_pred = classifier.predict(X_test)\n",
    "print(\" Precision: {:.3f}%\".format(precision(*classification_report(y_test, y_pred)) * 100))"
   ]
  },
  {
   "cell_type": "code",
   "execution_count": null,
   "id": "8a133bf0",
   "metadata": {},
   "outputs": [
    {
     "name": "stdout",
     "output_type": "stream",
     "text": [
      " F1 Score: 85.185%\n"
     ]
    }
   ],
   "source": [
    "y_pred = classifier.predict(X_test)\n",
    "print(\" F1 Score: {:.3f}%\".format(f1_score(*classification_report(y_test, y_pred)) * 100))"
   ]
  },
  {
   "cell_type": "code",
   "execution_count": null,
   "id": "32424b09",
   "metadata": {},
   "outputs": [
    {
     "data": {
      "image/png": "[encoded data removed]",
      "text/plain": [
       "<Figure size 640x480 with 2 Axes>"
      ]
     },
     "metadata": {},
     "output_type": "display_data"
    }
   ],
   "source": [
    "y_pred = classifier.predict(X_test)\n",
    "cf_matrix = confusion_matrix(y_test, y_pred)\n",
    "group_names = ['True Neg','False Pos','False Neg','True Pos']\n",
    "\n",
    "group_counts = [\"{0:0.0f}\".format(value) for value in\n",
    "                cf_matrix.flatten()]\n",
    "\n",
    "group_percentages = [\"{0:.2%}\".format(value) for value in\n",
    "                     cf_matrix.flatten()/np.sum(cf_matrix)]\n",
    "\n",
    "labels = [f\"{v1}\\n{v2}\\n{v3}\" for v1, v2, v3 in\n",
    "          zip(group_names,group_counts,group_percentages)]\n",
    "\n",
    "labels = np.asarray(labels).reshape(2,2)\n",
    "\n",
    "ax = sns.heatmap(cf_matrix, annot=labels, fmt='', cmap='Blues')\n",
    "\n",
    "#ax.set_title('Confusion Matrix with labels\\n\\n');\n",
    "ax.set_xlabel('Valores preditos pelo modelo')\n",
    "ax.set_ylabel('Valores reais ');\n",
    "\n",
    "## Ticket labels - List must be in alphabetical order\n",
    "ax.xaxis.set_ticklabels(['False','True'])\n",
    "ax.yaxis.set_ticklabels(['False','True'])\n",
    "\n",
    "## Display the visualization of the Confusion Matrix.\n",
    "plt.savefig('my_plot.JPEG')\n",
    "plt.show()"
   ]
  }
 ],
 "metadata": {
  "kernelspec": {
   "display_name": "Python 3",
   "language": "python",
   "name": "python3"
  },
  "language_info": {
   "codemirror_mode": {
    "name": "ipython",
    "version": 3
   },
   "file_extension": ".py",
   "mimetype": "text/x-python",
   "name": "python",
   "nbconvert_exporter": "python",
   "pygments_lexer": "ipython3",
   "version": "3.12.1"
  }
 },
 "nbformat": 4,
 "nbformat_minor": 5
}
